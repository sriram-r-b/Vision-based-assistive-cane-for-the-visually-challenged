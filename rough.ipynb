{
 "cells": [
  {
   "cell_type": "code",
   "execution_count": 1,
   "id": "3568f0d6-1f3d-4e78-a86e-6188803a83fe",
   "metadata": {},
   "outputs": [
    {
     "name": "stderr",
     "output_type": "stream",
     "text": [
      "2021-10-03 18:38:39.432673: I tensorflow/stream_executor/platform/default/dso_loader.cc:48] Successfully opened dynamic library libcudart.so.10.1\n",
      "2021-10-03 18:38:51.863765: I tensorflow/stream_executor/platform/default/dso_loader.cc:48] Successfully opened dynamic library libcuda.so.1\n",
      "2021-10-03 18:38:52.033835: I tensorflow/stream_executor/cuda/cuda_gpu_executor.cc:982] successful NUMA node read from SysFS had negative value (-1), but there must be at least one NUMA node, so returning NUMA node zero\n",
      "2021-10-03 18:38:52.034917: I tensorflow/core/common_runtime/gpu/gpu_device.cc:1716] Found device 0 with properties: \n",
      "pciBusID: 0000:01:00.0 name: GeForce GTX 1050 Ti computeCapability: 6.1\n",
      "coreClock: 1.62GHz coreCount: 6 deviceMemorySize: 3.95GiB deviceMemoryBandwidth: 104.43GiB/s\n",
      "2021-10-03 18:38:52.034996: I tensorflow/stream_executor/platform/default/dso_loader.cc:48] Successfully opened dynamic library libcudart.so.10.1\n",
      "2021-10-03 18:38:52.376435: I tensorflow/stream_executor/platform/default/dso_loader.cc:48] Successfully opened dynamic library libcublas.so.10\n",
      "2021-10-03 18:38:52.599020: I tensorflow/stream_executor/platform/default/dso_loader.cc:48] Successfully opened dynamic library libcufft.so.10\n",
      "2021-10-03 18:38:52.666803: I tensorflow/stream_executor/platform/default/dso_loader.cc:48] Successfully opened dynamic library libcurand.so.10\n",
      "2021-10-03 18:38:53.000029: I tensorflow/stream_executor/platform/default/dso_loader.cc:48] Successfully opened dynamic library libcusolver.so.10\n",
      "2021-10-03 18:38:53.069050: I tensorflow/stream_executor/platform/default/dso_loader.cc:48] Successfully opened dynamic library libcusparse.so.10\n",
      "2021-10-03 18:38:53.801136: I tensorflow/stream_executor/platform/default/dso_loader.cc:48] Successfully opened dynamic library libcudnn.so.7\n",
      "2021-10-03 18:38:53.801476: I tensorflow/stream_executor/cuda/cuda_gpu_executor.cc:982] successful NUMA node read from SysFS had negative value (-1), but there must be at least one NUMA node, so returning NUMA node zero\n",
      "2021-10-03 18:38:53.802709: I tensorflow/stream_executor/cuda/cuda_gpu_executor.cc:982] successful NUMA node read from SysFS had negative value (-1), but there must be at least one NUMA node, so returning NUMA node zero\n",
      "2021-10-03 18:38:53.803681: I tensorflow/core/common_runtime/gpu/gpu_device.cc:1858] Adding visible gpu devices: 0\n",
      "2021-10-03 18:38:55.400018: I tensorflow/core/platform/cpu_feature_guard.cc:142] This TensorFlow binary is optimized with oneAPI Deep Neural Network Library (oneDNN)to use the following CPU instructions in performance-critical operations:  AVX2 FMA\n",
      "To enable them in other operations, rebuild TensorFlow with the appropriate compiler flags.\n",
      "2021-10-03 18:38:55.563169: I tensorflow/core/platform/profile_utils/cpu_utils.cc:104] CPU Frequency: 2299965000 Hz\n",
      "2021-10-03 18:38:55.564422: I tensorflow/compiler/xla/service/service.cc:168] XLA service 0x560c0bcfad50 initialized for platform Host (this does not guarantee that XLA will be used). Devices:\n",
      "2021-10-03 18:38:55.564479: I tensorflow/compiler/xla/service/service.cc:176]   StreamExecutor device (0): Host, Default Version\n",
      "2021-10-03 18:38:55.795544: I tensorflow/stream_executor/cuda/cuda_gpu_executor.cc:982] successful NUMA node read from SysFS had negative value (-1), but there must be at least one NUMA node, so returning NUMA node zero\n",
      "2021-10-03 18:38:55.796545: I tensorflow/compiler/xla/service/service.cc:168] XLA service 0x560c0cbdbf50 initialized for platform CUDA (this does not guarantee that XLA will be used). Devices:\n",
      "2021-10-03 18:38:55.796594: I tensorflow/compiler/xla/service/service.cc:176]   StreamExecutor device (0): GeForce GTX 1050 Ti, Compute Capability 6.1\n",
      "2021-10-03 18:38:55.826385: I tensorflow/stream_executor/cuda/cuda_gpu_executor.cc:982] successful NUMA node read from SysFS had negative value (-1), but there must be at least one NUMA node, so returning NUMA node zero\n",
      "2021-10-03 18:38:55.827237: I tensorflow/core/common_runtime/gpu/gpu_device.cc:1716] Found device 0 with properties: \n",
      "pciBusID: 0000:01:00.0 name: GeForce GTX 1050 Ti computeCapability: 6.1\n",
      "coreClock: 1.62GHz coreCount: 6 deviceMemorySize: 3.95GiB deviceMemoryBandwidth: 104.43GiB/s\n",
      "2021-10-03 18:38:55.827317: I tensorflow/stream_executor/platform/default/dso_loader.cc:48] Successfully opened dynamic library libcudart.so.10.1\n",
      "2021-10-03 18:38:55.827367: I tensorflow/stream_executor/platform/default/dso_loader.cc:48] Successfully opened dynamic library libcublas.so.10\n",
      "2021-10-03 18:38:55.827403: I tensorflow/stream_executor/platform/default/dso_loader.cc:48] Successfully opened dynamic library libcufft.so.10\n",
      "2021-10-03 18:38:55.827439: I tensorflow/stream_executor/platform/default/dso_loader.cc:48] Successfully opened dynamic library libcurand.so.10\n",
      "2021-10-03 18:38:55.827474: I tensorflow/stream_executor/platform/default/dso_loader.cc:48] Successfully opened dynamic library libcusolver.so.10\n",
      "2021-10-03 18:38:55.827510: I tensorflow/stream_executor/platform/default/dso_loader.cc:48] Successfully opened dynamic library libcusparse.so.10\n",
      "2021-10-03 18:38:55.827547: I tensorflow/stream_executor/platform/default/dso_loader.cc:48] Successfully opened dynamic library libcudnn.so.7\n",
      "2021-10-03 18:38:55.827721: I tensorflow/stream_executor/cuda/cuda_gpu_executor.cc:982] successful NUMA node read from SysFS had negative value (-1), but there must be at least one NUMA node, so returning NUMA node zero\n",
      "2021-10-03 18:38:55.828493: I tensorflow/stream_executor/cuda/cuda_gpu_executor.cc:982] successful NUMA node read from SysFS had negative value (-1), but there must be at least one NUMA node, so returning NUMA node zero\n",
      "2021-10-03 18:38:55.829139: I tensorflow/core/common_runtime/gpu/gpu_device.cc:1858] Adding visible gpu devices: 0\n",
      "2021-10-03 18:38:55.847098: I tensorflow/stream_executor/platform/default/dso_loader.cc:48] Successfully opened dynamic library libcudart.so.10.1\n",
      "2021-10-03 18:39:00.598163: I tensorflow/core/common_runtime/gpu/gpu_device.cc:1257] Device interconnect StreamExecutor with strength 1 edge matrix:\n",
      "2021-10-03 18:39:00.598222: I tensorflow/core/common_runtime/gpu/gpu_device.cc:1263]      0 \n",
      "2021-10-03 18:39:00.598242: I tensorflow/core/common_runtime/gpu/gpu_device.cc:1276] 0:   N \n",
      "2021-10-03 18:39:00.616485: I tensorflow/stream_executor/cuda/cuda_gpu_executor.cc:982] successful NUMA node read from SysFS had negative value (-1), but there must be at least one NUMA node, so returning NUMA node zero\n",
      "2021-10-03 18:39:00.617345: I tensorflow/stream_executor/cuda/cuda_gpu_executor.cc:982] successful NUMA node read from SysFS had negative value (-1), but there must be at least one NUMA node, so returning NUMA node zero\n",
      "2021-10-03 18:39:00.618105: I tensorflow/core/common_runtime/gpu/gpu_device.cc:1402] Created TensorFlow device (/job:localhost/replica:0/task:0/device:GPU:0 with 3266 MB memory) -> physical GPU (device: 0, name: GeForce GTX 1050 Ti, pci bus id: 0000:01:00.0, compute capability: 6.1)\n"
     ]
    }
   ],
   "source": [
    "import tensorflow as tf\n",
    "physical_devices = tf.config.experimental.list_physical_devices('GPU')\n",
    "if len(physical_devices) > 0:\n",
    "    tf.config.experimental.set_memory_growth(physical_devices[0], True)\n",
    "from absl import app, flags, logging\n",
    "from absl.flags import FLAGS\n",
    "import core.utils as utils\n",
    "from core.config import cfg\n",
    "from core.yolov4 import filter_boxes\n",
    "from tensorflow.python.saved_model import tag_constants\n",
    "from PIL import Image\n",
    "import cv2\n",
    "import numpy as np\n",
    "from tensorflow.compat.v1 import ConfigProto\n",
    "from tensorflow.compat.v1 import InteractiveSession"
   ]
  },
  {
   "cell_type": "code",
   "execution_count": 2,
   "id": "c41215d9-dac9-4027-a50e-a714384b998b",
   "metadata": {},
   "outputs": [
    {
     "data": {
      "text/plain": [
       "<absl.flags._flagvalues.FlagHolder at 0x7f516522c898>"
      ]
     },
     "execution_count": 2,
     "metadata": {},
     "output_type": "execute_result"
    }
   ],
   "source": [
    "flags.DEFINE_string('framework', 'tf', '(tf, tflite, trt')\n",
    "flags.DEFINE_string('weights', './checkpoints/yolov4-416',\n",
    "                    'path to weights file')\n",
    "flags.DEFINE_integer('size', 416, 'resize images to')\n",
    "flags.DEFINE_boolean('tiny', False, 'yolo or yolo-tiny')\n",
    "flags.DEFINE_string('model', 'yolov4', 'yolov3 or yolov4')\n",
    "flags.DEFINE_list('images', './data/images/kite.jpg', 'path to input image')\n",
    "flags.DEFINE_string('output', './detections/', 'path to output folder')\n",
    "flags.DEFINE_float('iou', 0.45, 'iou threshold')\n",
    "flags.DEFINE_float('score', 0.25, 'score threshold')\n",
    "flags.DEFINE_boolean('dont_show', False, 'dont show image output')\n"
   ]
  },
  {
   "cell_type": "code",
   "execution_count": 3,
   "id": "9d807d4a-6514-4db7-835d-6cd5ff517657",
   "metadata": {},
   "outputs": [],
   "source": [
    "def main(_argv):\n",
    "    config = ConfigProto()\n",
    "    config.gpu_options.allow_growth = True\n",
    "    session = InteractiveSession(config=config)\n",
    "    STRIDES, ANCHORS, NUM_CLASS, XYSCALE = utils.load_config(FLAGS)\n",
    "    input_size = FLAGS.size\n",
    "    images = FLAGS.images\n",
    "\n",
    "    # load model\n",
    "    if FLAGS.framework == 'tflite':\n",
    "            interpreter = tf.lite.Interpreter(model_path=FLAGS.weights)\n",
    "    else:\n",
    "            saved_model_loaded = tf.saved_model.load(FLAGS.weights, tags=[tag_constants.SERVING])\n",
    "\n",
    "    # loop through images in list and run Yolov4 model on each\n",
    "    for count, image_path in enumerate(images, 1):\n",
    "        original_image = cv2.imread(image_path)\n",
    "        original_image = cv2.cvtColor(original_image, cv2.COLOR_BGR2RGB)\n",
    "\n",
    "        image_data = cv2.resize(original_image, (input_size, input_size))\n",
    "        image_data = image_data / 255.\n",
    "\n",
    "        images_data = []\n",
    "        for i in range(1):\n",
    "            images_data.append(image_data)\n",
    "        images_data = np.asarray(images_data).astype(np.float32)\n",
    "\n",
    "        if FLAGS.framework == 'tflite':\n",
    "            interpreter.allocate_tensors()\n",
    "            input_details = interpreter.get_input_details()\n",
    "            output_details = interpreter.get_output_details()\n",
    "            print(input_details)\n",
    "            print(output_details)\n",
    "            interpreter.set_tensor(input_details[0]['index'], images_data)\n",
    "            interpreter.invoke()\n",
    "            pred = [interpreter.get_tensor(output_details[i]['index']) for i in range(len(output_details))]\n",
    "            if FLAGS.model == 'yolov3' and FLAGS.tiny == True:\n",
    "                boxes, pred_conf = filter_boxes(pred[1], pred[0], score_threshold=0.25, input_shape=tf.constant([input_size, input_size]))\n",
    "            else:\n",
    "                boxes, pred_conf = filter_boxes(pred[0], pred[1], score_threshold=0.25, input_shape=tf.constant([input_size, input_size]))\n",
    "        else:\n",
    "            infer = saved_model_loaded.signatures['serving_default']\n",
    "            batch_data = tf.constant(images_data)\n",
    "            pred_bbox = infer(batch_data)\n",
    "            for key, value in pred_bbox.items():\n",
    "                boxes = value[:, :, 0:4]\n",
    "                pred_conf = value[:, :, 4:]\n",
    "\n",
    "        boxes, scores, classes, valid_detections = tf.image.combined_non_max_suppression(\n",
    "            boxes=tf.reshape(boxes, (tf.shape(boxes)[0], -1, 1, 4)),\n",
    "            scores=tf.reshape(\n",
    "                pred_conf, (tf.shape(pred_conf)[0], -1, tf.shape(pred_conf)[-1])),\n",
    "            max_output_size_per_class=50,\n",
    "            max_total_size=50,\n",
    "            iou_threshold=FLAGS.iou,\n",
    "            score_threshold=FLAGS.score\n",
    "        )\n",
    "        pred_bbox = [boxes.numpy(), scores.numpy(), classes.numpy(), valid_detections.numpy()]\n",
    "\n",
    "        # read in all class names from config\n",
    "        class_names = utils.read_class_names(cfg.YOLO.CLASSES)\n",
    "\n",
    "        # by default allow all classes in .names file\n",
    "        allowed_classes = list(class_names.values())\n",
    "        \n",
    "        # custom allowed classes (uncomment line below to allow detections for only people)\n",
    "        #allowed_classes = ['person']\n",
    "\n",
    "        image = utils.draw_bbox(original_image, pred_bbox, allowed_classes = allowed_classes)\n",
    "\n",
    "        image = Image.fromarray(image.astype(np.uint8))\n",
    "        if not FLAGS.dont_show:\n",
    "            image.show()\n",
    "        image = cv2.cvtColor(np.array(image), cv2.COLOR_BGR2RGB)\n",
    "        cv2.imwrite(FLAGS.output + 'detection' + str(count) + '.png', image)\n"
   ]
  },
  {
   "cell_type": "code",
   "execution_count": 2,
   "id": "c6e9720f-5142-4897-ba3b-a7ff9234bdec",
   "metadata": {},
   "outputs": [],
   "source": [
    "class Flags1:\n",
    "    def __init__(self):\n",
    "        self.framework='tf'\n",
    "        self.weights='./checkpoints/yolov4-416'\n",
    "        self.size=416\n",
    "        self.tiny= False#, 'yolo or yolo-tiny')\n",
    "        self.model='yolov4'#, 'yolov3 or yolov4')\n",
    "        self.images= [\"./data/images/pdcofigchair/h1.jpg\",]#, 'path to input image')\n",
    "        self.output= './detections' # 'path to output folder')\n",
    "        self.iou= 0.45\n",
    "        self.score= 0.25\n",
    "        self.dont_show= False\n",
    "    def myfunc(self):        \n",
    "        print(\"Hello my func \")"
   ]
  },
  {
   "cell_type": "code",
   "execution_count": 3,
   "id": "e25a4330-9d9c-4be2-a0ab-0f232577c779",
   "metadata": {},
   "outputs": [],
   "source": [
    "FLAGS=Flags1()"
   ]
  },
  {
   "cell_type": "code",
   "execution_count": 4,
   "id": "384711c8-acd5-40a7-bb31-c76814442184",
   "metadata": {},
   "outputs": [],
   "source": [
    "def test():\n",
    "    config = ConfigProto()\n",
    "    config.gpu_options.allow_growth = True\n",
    "    session = InteractiveSession(config=config)\n",
    "    STRIDES, ANCHORS, NUM_CLASS, XYSCALE = utils.load_config(FLAGS)\n",
    "    input_size = FLAGS.size\n",
    "    images = FLAGS.images\n",
    "    plist=list()\n",
    "\n",
    "    # load model\n",
    "    if FLAGS.framework == 'tflite':\n",
    "            interpreter = tf.lite.Interpreter(model_path=FLAGS.weights)\n",
    "    else:\n",
    "            saved_model_loaded = tf.saved_model.load(FLAGS.weights, tags=[tag_constants.SERVING])\n",
    "\n",
    "    # loop through images in list and run Yolov4 model on each\n",
    "    for count, image_path in enumerate(images, 1):\n",
    "        print(count,image_path)\n",
    "        original_image = cv2.imread(image_path)\n",
    "        original_image = cv2.cvtColor(original_image, cv2.COLOR_BGR2RGB)\n",
    "\n",
    "        image_data = cv2.resize(original_image, (input_size, input_size))\n",
    "        image_data = image_data / 255.\n",
    "\n",
    "        images_data = []\n",
    "        for i in range(1):\n",
    "            images_data.append(image_data)\n",
    "        images_data = np.asarray(images_data).astype(np.float32)\n",
    "\n",
    "        if FLAGS.framework == 'tflite':\n",
    "            interpreter.allocate_tensors()\n",
    "            input_details = interpreter.get_input_details()\n",
    "            output_details = interpreter.get_output_details()\n",
    "            print(input_details)\n",
    "            print(output_details)\n",
    "            interpreter.set_tensor(input_details[0]['index'], images_data)\n",
    "            interpreter.invoke()\n",
    "            pred = [interpreter.get_tensor(output_details[i]['index']) for i in range(len(output_details))]\n",
    "            if FLAGS.model == 'yolov3' and FLAGS.tiny == True:\n",
    "                boxes, pred_conf = filter_boxes(pred[1], pred[0], score_threshold=0.25, input_shape=tf.constant([input_size, input_size]))\n",
    "            else:\n",
    "                boxes, pred_conf = filter_boxes(pred[0], pred[1], score_threshold=0.25, input_shape=tf.constant([input_size, input_size]))\n",
    "        else:\n",
    "            infer = saved_model_loaded.signatures['serving_default']\n",
    "            batch_data = tf.constant(images_data)\n",
    "            pred_bbox = infer(batch_data)\n",
    "            for key, value in pred_bbox.items():\n",
    "                boxes = value[:, :, 0:4]\n",
    "                pred_conf = value[:, :, 4:]\n",
    "\n",
    "        boxes, scores, classes, valid_detections = tf.image.combined_non_max_suppression(\n",
    "            boxes=tf.reshape(boxes, (tf.shape(boxes)[0], -1, 1, 4)),\n",
    "            scores=tf.reshape(\n",
    "                pred_conf, (tf.shape(pred_conf)[0], -1, tf.shape(pred_conf)[-1])),\n",
    "            max_output_size_per_class=50,\n",
    "            max_total_size=50,\n",
    "            iou_threshold=FLAGS.iou,\n",
    "            score_threshold=FLAGS.score\n",
    "        )\n",
    "        \n",
    "        pred_bbox = [boxes.numpy(), scores.numpy(), classes.numpy(), valid_detections.numpy()]\n",
    "        print(boxes.numpy()[0])\n",
    "        coor = pred_bbox[0][0][1]\n",
    "        image_h, image_w, _ = original_image.shape\n",
    "        coor[0] = int(coor[0] * image_h)\n",
    "        coor[2] = int(coor[2] * image_h)\n",
    "        coor[1] = int(coor[1] * image_w)\n",
    "        coor[3] = int(coor[3] * image_w)\n",
    "        #ymin,xmin,ymax,xmax=np.array(boxes[0][0]).astype(int)\n",
    "        #crop=original_image[ymin-5:ymax+5 , xmin-5:xmax+5]\n",
    "        print(coor[0],coor[2],coor[1],coor[3])\n",
    "        #crop=original_image[int(coor[0]):int(coor[2]),int(coor[1]):int(coor[3])]\n",
    "        crop=original_image[0:480,0:640]\n",
    "\n",
    "        # read in all class names from config\n",
    "        class_names = utils.read_class_names(cfg.YOLO.CLASSES)\n",
    "\n",
    "        # by default allow all classes in .names file\n",
    "        allowed_classes = list(class_names.values())\n",
    "        \n",
    "        # custom allowed classes (uncomment line below to allow detections for only people)\n",
    "        #allowed_classes = ['person']\n",
    "\n",
    "        image = utils.draw_bbox(original_image, pred_bbox, allowed_classes = allowed_classes)\n",
    "\n",
    "        image = Image.fromarray(image.astype(np.uint8))\n",
    "        crop  = Image.fromarray(crop.astype(np.uint8))\n",
    "        if not FLAGS.dont_show:\n",
    "            image.show()\n",
    "            crop.show()\n",
    "        image = cv2.cvtColor(np.array(image), cv2.COLOR_BGR2RGB)\n",
    "        cv2.imwrite(FLAGS.output + 'detection' + str(count) + '.png', image)\n",
    "        return boxes\n",
    "        \n"
   ]
  },
  {
   "cell_type": "code",
   "execution_count": 5,
   "id": "cbc15a96-d333-42c4-832c-afaff35034a1",
   "metadata": {},
   "outputs": [
    {
     "name": "stderr",
     "output_type": "stream",
     "text": [
      "FATAL Flags parsing error: Unknown command line flag 'f'\n",
      "Pass --helpshort or --helpfull to see help on flags.\n"
     ]
    }
   ],
   "source": [
    "if __name__ == '__main__':\n",
    "    try:\n",
    "        app.run(test)\n",
    "    except SystemExit:\n",
    "        pass"
   ]
  },
  {
   "cell_type": "code",
   "execution_count": 6,
   "id": "dc2b70cc-d41b-4099-aae3-00984427134b",
   "metadata": {},
   "outputs": [
    {
     "name": "stderr",
     "output_type": "stream",
     "text": [
      "2021-10-03 18:39:01.286914: I tensorflow/stream_executor/cuda/cuda_gpu_executor.cc:982] successful NUMA node read from SysFS had negative value (-1), but there must be at least one NUMA node, so returning NUMA node zero\n",
      "2021-10-03 18:39:01.287795: I tensorflow/core/common_runtime/gpu/gpu_device.cc:1716] Found device 0 with properties: \n",
      "pciBusID: 0000:01:00.0 name: GeForce GTX 1050 Ti computeCapability: 6.1\n",
      "coreClock: 1.62GHz coreCount: 6 deviceMemorySize: 3.95GiB deviceMemoryBandwidth: 104.43GiB/s\n",
      "2021-10-03 18:39:01.287874: I tensorflow/stream_executor/platform/default/dso_loader.cc:48] Successfully opened dynamic library libcudart.so.10.1\n",
      "2021-10-03 18:39:01.287924: I tensorflow/stream_executor/platform/default/dso_loader.cc:48] Successfully opened dynamic library libcublas.so.10\n",
      "2021-10-03 18:39:01.287965: I tensorflow/stream_executor/platform/default/dso_loader.cc:48] Successfully opened dynamic library libcufft.so.10\n",
      "2021-10-03 18:39:01.288017: I tensorflow/stream_executor/platform/default/dso_loader.cc:48] Successfully opened dynamic library libcurand.so.10\n",
      "2021-10-03 18:39:01.288075: I tensorflow/stream_executor/platform/default/dso_loader.cc:48] Successfully opened dynamic library libcusolver.so.10\n",
      "2021-10-03 18:39:01.288120: I tensorflow/stream_executor/platform/default/dso_loader.cc:48] Successfully opened dynamic library libcusparse.so.10\n",
      "2021-10-03 18:39:01.288159: I tensorflow/stream_executor/platform/default/dso_loader.cc:48] Successfully opened dynamic library libcudnn.so.7\n",
      "2021-10-03 18:39:01.288318: I tensorflow/stream_executor/cuda/cuda_gpu_executor.cc:982] successful NUMA node read from SysFS had negative value (-1), but there must be at least one NUMA node, so returning NUMA node zero\n",
      "2021-10-03 18:39:01.289187: I tensorflow/stream_executor/cuda/cuda_gpu_executor.cc:982] successful NUMA node read from SysFS had negative value (-1), but there must be at least one NUMA node, so returning NUMA node zero\n",
      "2021-10-03 18:39:01.289923: I tensorflow/core/common_runtime/gpu/gpu_device.cc:1858] Adding visible gpu devices: 0\n",
      "2021-10-03 18:39:01.289996: I tensorflow/core/common_runtime/gpu/gpu_device.cc:1257] Device interconnect StreamExecutor with strength 1 edge matrix:\n",
      "2021-10-03 18:39:01.290017: I tensorflow/core/common_runtime/gpu/gpu_device.cc:1263]      0 \n",
      "2021-10-03 18:39:01.290034: I tensorflow/core/common_runtime/gpu/gpu_device.cc:1276] 0:   N \n",
      "2021-10-03 18:39:01.290274: I tensorflow/stream_executor/cuda/cuda_gpu_executor.cc:982] successful NUMA node read from SysFS had negative value (-1), but there must be at least one NUMA node, so returning NUMA node zero\n",
      "2021-10-03 18:39:01.291205: I tensorflow/stream_executor/cuda/cuda_gpu_executor.cc:982] successful NUMA node read from SysFS had negative value (-1), but there must be at least one NUMA node, so returning NUMA node zero\n",
      "2021-10-03 18:39:01.291973: I tensorflow/core/common_runtime/gpu/gpu_device.cc:1402] Created TensorFlow device (/job:localhost/replica:0/task:0/device:GPU:0 with 3266 MB memory) -> physical GPU (device: 0, name: GeForce GTX 1050 Ti, pci bus id: 0000:01:00.0, compute capability: 6.1)\n"
     ]
    },
    {
     "name": "stdout",
     "output_type": "stream",
     "text": [
      "1 ./data/images/pdcofigchair/h1.jpg\n"
     ]
    },
    {
     "name": "stderr",
     "output_type": "stream",
     "text": [
      "2021-10-03 18:39:24.555776: I tensorflow/stream_executor/platform/default/dso_loader.cc:48] Successfully opened dynamic library libcudnn.so.7\n",
      "2021-10-03 18:39:33.470322: I tensorflow/stream_executor/platform/default/dso_loader.cc:48] Successfully opened dynamic library libcublas.so.10\n",
      "2021-10-03 18:39:35.601647: W tensorflow/core/common_runtime/bfc_allocator.cc:312] Garbage collection: deallocate free memory regions (i.e., allocations) so that we can re-allocate a larger region to avoid OOM due to memory fragmentation. If you see this message frequently, you are running near the threshold of the available device memory and re-allocation may incur great performance overhead. You may try smaller batch sizes to observe the performance impact. Set TF_ENABLE_GPU_GARBAGE_COLLECTION=false if you'd like to disable this feature.\n"
     ]
    },
    {
     "name": "stdout",
     "output_type": "stream",
     "text": [
      "[[0.30070677 0.27770653 0.84117204 0.6625581 ]\n",
      " [0.79305667 0.00624935 1.         1.        ]\n",
      " [0.         0.         0.         0.        ]\n",
      " [0.         0.         0.         0.        ]\n",
      " [0.         0.         0.         0.        ]\n",
      " [0.         0.         0.         0.        ]\n",
      " [0.         0.         0.         0.        ]\n",
      " [0.         0.         0.         0.        ]\n",
      " [0.         0.         0.         0.        ]\n",
      " [0.         0.         0.         0.        ]\n",
      " [0.         0.         0.         0.        ]\n",
      " [0.         0.         0.         0.        ]\n",
      " [0.         0.         0.         0.        ]\n",
      " [0.         0.         0.         0.        ]\n",
      " [0.         0.         0.         0.        ]\n",
      " [0.         0.         0.         0.        ]\n",
      " [0.         0.         0.         0.        ]\n",
      " [0.         0.         0.         0.        ]\n",
      " [0.         0.         0.         0.        ]\n",
      " [0.         0.         0.         0.        ]\n",
      " [0.         0.         0.         0.        ]\n",
      " [0.         0.         0.         0.        ]\n",
      " [0.         0.         0.         0.        ]\n",
      " [0.         0.         0.         0.        ]\n",
      " [0.         0.         0.         0.        ]\n",
      " [0.         0.         0.         0.        ]\n",
      " [0.         0.         0.         0.        ]\n",
      " [0.         0.         0.         0.        ]\n",
      " [0.         0.         0.         0.        ]\n",
      " [0.         0.         0.         0.        ]\n",
      " [0.         0.         0.         0.        ]\n",
      " [0.         0.         0.         0.        ]\n",
      " [0.         0.         0.         0.        ]\n",
      " [0.         0.         0.         0.        ]\n",
      " [0.         0.         0.         0.        ]\n",
      " [0.         0.         0.         0.        ]\n",
      " [0.         0.         0.         0.        ]\n",
      " [0.         0.         0.         0.        ]\n",
      " [0.         0.         0.         0.        ]\n",
      " [0.         0.         0.         0.        ]\n",
      " [0.         0.         0.         0.        ]\n",
      " [0.         0.         0.         0.        ]\n",
      " [0.         0.         0.         0.        ]\n",
      " [0.         0.         0.         0.        ]\n",
      " [0.         0.         0.         0.        ]\n",
      " [0.         0.         0.         0.        ]\n",
      " [0.         0.         0.         0.        ]\n",
      " [0.         0.         0.         0.        ]\n",
      " [0.         0.         0.         0.        ]\n",
      " [0.         0.         0.         0.        ]]\n",
      "380.0 480.0 3.0 640.0\n"
     ]
    }
   ],
   "source": [
    "a=test()"
   ]
  },
  {
   "cell_type": "code",
   "execution_count": 7,
   "id": "f01b1451-e1f1-498c-8273-b0cdef195a77",
   "metadata": {},
   "outputs": [],
   "source": [
    "image = cv2.imread(FLAGS.images[0])"
   ]
  },
  {
   "cell_type": "code",
   "execution_count": 8,
   "id": "246203a6-5048-4b56-b3be-cf4762c2a4b9",
   "metadata": {},
   "outputs": [
    {
     "data": {
      "text/plain": [
       "(480, 640, 3)"
      ]
     },
     "execution_count": 8,
     "metadata": {},
     "output_type": "execute_result"
    }
   ],
   "source": [
    "image.shape"
   ]
  },
  {
   "cell_type": "code",
   "execution_count": 9,
   "id": "4e27a5c9-502d-4283-a057-db899be7cf49",
   "metadata": {},
   "outputs": [],
   "source": [
    "image_h, image_w, _ = image.shape"
   ]
  },
  {
   "cell_type": "code",
   "execution_count": 55,
   "id": "f37316d4-d426-4a10-958f-9545becc36ff",
   "metadata": {},
   "outputs": [],
   "source": [
    "coor=a[0][0].numpy()"
   ]
  },
  {
   "cell_type": "code",
   "execution_count": 56,
   "id": "b0a312fa-8a9c-45f6-ac1d-78303fb87730",
   "metadata": {},
   "outputs": [
    {
     "data": {
      "text/plain": [
       "array([0.30070677, 0.27770653, 0.84117204, 0.6625581 ], dtype=float32)"
      ]
     },
     "execution_count": 56,
     "metadata": {},
     "output_type": "execute_result"
    }
   ],
   "source": [
    "a[0][0].numpy()"
   ]
  },
  {
   "cell_type": "code",
   "execution_count": 57,
   "id": "7d20e22d-a3f7-4f90-a41d-f6358a9af825",
   "metadata": {},
   "outputs": [
    {
     "data": {
      "text/plain": [
       "array([0.30070677, 0.27770653, 0.84117204, 0.6625581 ], dtype=float32)"
      ]
     },
     "execution_count": 57,
     "metadata": {},
     "output_type": "execute_result"
    }
   ],
   "source": [
    "coor"
   ]
  },
  {
   "cell_type": "code",
   "execution_count": 58,
   "id": "5683e9c6-3ac5-414c-9e18-f8935d8471fe",
   "metadata": {},
   "outputs": [
    {
     "data": {
      "text/plain": [
       "133.2991361618042"
      ]
     },
     "execution_count": 58,
     "metadata": {},
     "output_type": "execute_result"
    }
   ],
   "source": [
    "coor[1] * image_h"
   ]
  },
  {
   "cell_type": "code",
   "execution_count": 59,
   "id": "6ed68d42-9bcf-4dc7-88a7-1c670e11e0c8",
   "metadata": {},
   "outputs": [
    {
     "data": {
      "text/plain": [
       "318.0278778076172"
      ]
     },
     "execution_count": 59,
     "metadata": {},
     "output_type": "execute_result"
    }
   ],
   "source": [
    "coor[3] * image_h"
   ]
  },
  {
   "cell_type": "code",
   "execution_count": 60,
   "id": "1b77bbcd-3238-47de-b4b7-0bbb265c49e2",
   "metadata": {},
   "outputs": [],
   "source": [
    "coor[0] = int(coor[0] * image_h)\n",
    "coor[2] = int(coor[2] * image_h)\n",
    "coor[1] = int(coor[1] * image_w)\n",
    "coor[3] = int(coor[3] * image_w)"
   ]
  },
  {
   "cell_type": "code",
   "execution_count": 61,
   "id": "ab62a167-7925-4eab-9ed1-937c292d307f",
   "metadata": {},
   "outputs": [],
   "source": [
    "c1, c2 = (coor[1], coor[0]), (coor[2], coor[3])"
   ]
  },
  {
   "cell_type": "code",
   "execution_count": 76,
   "id": "6eedeeab-2977-49e5-9149-15d9b04fbd1b",
   "metadata": {},
   "outputs": [],
   "source": [
    "hmin= int(coor[0])\n",
    "hmax = int(coor[2])\n",
    "wmin = int(coor[1])\n",
    "wmax = int(coor[3])"
   ]
  },
  {
   "cell_type": "code",
   "execution_count": 63,
   "id": "371580ec-75a3-4ed3-8389-d818e9315490",
   "metadata": {},
   "outputs": [
    {
     "data": {
      "text/plain": [
       "((177.0, 144.0), (403.0, 424.0))"
      ]
     },
     "execution_count": 63,
     "metadata": {},
     "output_type": "execute_result"
    }
   ],
   "source": [
    "c1,c2"
   ]
  },
  {
   "cell_type": "code",
   "execution_count": 72,
   "id": "e1329489-52e9-4d43-8e12-02e839a5b517",
   "metadata": {},
   "outputs": [],
   "source": [
    "crop=image[int(coor[0]):int(coor[2]),int(coor[1]):int(coor[3])]"
   ]
  },
  {
   "cell_type": "code",
   "execution_count": 73,
   "id": "20bd2eff-b59e-4105-9029-b371b735ea86",
   "metadata": {},
   "outputs": [
    {
     "name": "stdout",
     "output_type": "stream",
     "text": [
      "424\n",
      "177\n",
      "403\n",
      "144\n"
     ]
    }
   ],
   "source": [
    "print(hmax,hmin,wmax,wmin,sep=\"\\n\")"
   ]
  },
  {
   "cell_type": "code",
   "execution_count": 74,
   "id": "a8c1bed1-15ca-4afc-bb7b-b17241193c1c",
   "metadata": {},
   "outputs": [],
   "source": [
    "crop  = Image.fromarray(crop.astype(np.uint8))"
   ]
  },
  {
   "cell_type": "code",
   "execution_count": 75,
   "id": "fa195f20-1f6f-4a6b-9640-e0e514989027",
   "metadata": {},
   "outputs": [],
   "source": [
    "crop.show()"
   ]
  },
  {
   "cell_type": "code",
   "execution_count": 78,
   "id": "33808845-31fd-45b2-803d-7ff2c0745fb6",
   "metadata": {},
   "outputs": [],
   "source": [
    "from matplotlib import pyplot as plt\n",
    "%matplotlib inline"
   ]
  },
  {
   "cell_type": "code",
   "execution_count": 79,
   "id": "cbae2efa-58e7-4eda-b4e9-b1f805555692",
   "metadata": {},
   "outputs": [
    {
     "data": {
      "image/png": "[encoded data removed]",
      "text/plain": [
       "<Figure size 432x288 with 1 Axes>"
      ]
     },
     "metadata": {
      "needs_background": "light"
     },
     "output_type": "display_data"
    }
   ],
   "source": [
    "plt.imshow(cv2.cvtColor(image[hmin:hmax,wmin:wmax], cv2.COLOR_BGR2RGB))\n",
    "plt.show()"
   ]
  },
  {
   "cell_type": "code",
   "execution_count": null,
   "id": "3201b958-0943-47a9-8a73-8484eb758367",
   "metadata": {},
   "outputs": [],
   "source": []
  },
  {
   "cell_type": "code",
   "execution_count": null,
   "id": "72d56694-0fb0-4424-b9bf-046fcbd586d9",
   "metadata": {},
   "outputs": [],
   "source": []
  }
 ],
 "metadata": {
  "kernelspec": {
   "display_name": "Python 3 (ipykernel)",
   "language": "python",
   "name": "python3"
  },
  "language_info": {
   "codemirror_mode": {
    "name": "ipython",
    "version": 3
   },
   "file_extension": ".py",
   "mimetype": "text/x-python",
   "name": "python",
   "nbconvert_exporter": "python",
   "pygments_lexer": "ipython3",
   "version": "3.7.0"
  }
 },
 "nbformat": 4,
 "nbformat_minor": 5
}
